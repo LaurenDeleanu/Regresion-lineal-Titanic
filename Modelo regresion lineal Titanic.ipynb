{
 "cells": [
  {
   "cell_type": "code",
   "execution_count": 1,
   "id": "8216603c-a712-4a35-971f-b74ac406dc1f",
   "metadata": {},
   "outputs": [],
   "source": [
    "import seaborn as sns\n",
    "import pandas as pd\n",
    "import numpy as np\n",
    "import matplotlib.pyplot as plt"
   ]
  },
  {
   "cell_type": "markdown",
   "id": "dc905247-e525-4036-8205-de961aabf0c4",
   "metadata": {},
   "source": [
    "## Importamos y preparamos datos "
   ]
  },
  {
   "cell_type": "code",
   "execution_count": 5,
   "id": "3ee02c88-e5db-481d-aa84-834301d9ee68",
   "metadata": {},
   "outputs": [],
   "source": [
    "X_train = pd.read_csv(\"train.csv\")\n",
    "X_test = pd.read_csv(\"test.csv\")\n",
    "genderSub = pd.read_csv(\"gender_submission.csv\")\n",
    "\n",
    "\n",
    "y_train = X_train[\"Survived\"]  \n",
    "X_train = X_train.drop(columns=\"Survived\")\n",
    "\n",
    "\n",
    "X_test = pd.merge(genderSub, X_test, on=\"PassengerId\", how=\"inner\")\n",
    "y_test = X_test[\"Survived\"]  \n",
    "X_test = X_test.drop(columns=\"Survived\")"
   ]
  },
  {
   "cell_type": "markdown",
   "id": "dd9d9e37-fb5d-4fbc-9d35-d874e4af7097",
   "metadata": {},
   "source": [
    "## Limpieza de datos"
   ]
  },
  {
   "cell_type": "code",
   "execution_count": 7,
   "id": "2bc2336c-1557-4b8a-8ff3-849bacee99e6",
   "metadata": {},
   "outputs": [
    {
     "data": {
      "text/plain": [
       "PassengerId      0\n",
       "Pclass           0\n",
       "Name             0\n",
       "Sex              0\n",
       "Age            177\n",
       "SibSp            0\n",
       "Parch            0\n",
       "Ticket           0\n",
       "Fare             0\n",
       "Cabin          687\n",
       "Embarked         2\n",
       "dtype: int64"
      ]
     },
     "execution_count": 7,
     "metadata": {},
     "output_type": "execute_result"
    }
   ],
   "source": [
    "X_train.isnull().sum()\n"
   ]
  },
  {
   "cell_type": "code",
   "execution_count": 8,
   "id": "ee8daad9-ad17-4028-b1ce-289b3a4096bd",
   "metadata": {},
   "outputs": [
    {
     "data": {
      "text/plain": [
       "PassengerId      0\n",
       "Pclass           0\n",
       "Name             0\n",
       "Sex              0\n",
       "Age             86\n",
       "SibSp            0\n",
       "Parch            0\n",
       "Ticket           0\n",
       "Fare             1\n",
       "Cabin          327\n",
       "Embarked         0\n",
       "dtype: int64"
      ]
     },
     "execution_count": 8,
     "metadata": {},
     "output_type": "execute_result"
    }
   ],
   "source": [
    "X_test.isnull().sum()"
   ]
  },
  {
   "cell_type": "code",
   "execution_count": 10,
   "id": "8446b0d5-c74b-4ad9-a367-cd234367b707",
   "metadata": {},
   "outputs": [],
   "source": [
    "X_train = X_train.drop(\n",
    "    columns = \"Cabin\"\n",
    ")\n",
    "X_test = X_test.drop(\n",
    "    columns = \"Cabin\"\n",
    ")"
   ]
  },
  {
   "cell_type": "code",
   "execution_count": 12,
   "id": "d320bb1a-0751-4371-99a1-553379f28958",
   "metadata": {},
   "outputs": [],
   "source": [
    "mediaTrain =  X_train[\"Age\"].mean()\n",
    "X_train[\"Age\"] = X_train[\"Age\"].fillna(mediaTrain)\n",
    "X_train[\"Age\"] = X_train[\"Age\"].fillna(mediaTrain).astype(int)"
   ]
  },
  {
   "cell_type": "code",
   "execution_count": 13,
   "id": "dda972fc-296a-4ab4-b53e-a64ae7bbb555",
   "metadata": {},
   "outputs": [],
   "source": [
    "mediaTest =  X_test[\"Age\"].mean()\n",
    "X_test[\"Age\"] = X_test[\"Age\"].fillna(mediaTest)\n",
    "X_test[\"Age\"] = X_test[\"Age\"].fillna(mediaTest).astype(int)"
   ]
  },
  {
   "cell_type": "code",
   "execution_count": 14,
   "id": "ac01738d-6b21-4052-86fa-33086dd9c12e",
   "metadata": {},
   "outputs": [
    {
     "data": {
      "text/html": [
       "<div>\n",
       "<style scoped>\n",
       "    .dataframe tbody tr th:only-of-type {\n",
       "        vertical-align: middle;\n",
       "    }\n",
       "\n",
       "    .dataframe tbody tr th {\n",
       "        vertical-align: top;\n",
       "    }\n",
       "\n",
       "    .dataframe thead th {\n",
       "        text-align: right;\n",
       "    }\n",
       "</style>\n",
       "<table border=\"1\" class=\"dataframe\">\n",
       "  <thead>\n",
       "    <tr style=\"text-align: right;\">\n",
       "      <th></th>\n",
       "      <th>PassengerId</th>\n",
       "      <th>Pclass</th>\n",
       "      <th>Name</th>\n",
       "      <th>Sex</th>\n",
       "      <th>Age</th>\n",
       "      <th>SibSp</th>\n",
       "      <th>Parch</th>\n",
       "      <th>Ticket</th>\n",
       "      <th>Fare</th>\n",
       "      <th>Embarked</th>\n",
       "    </tr>\n",
       "  </thead>\n",
       "  <tbody>\n",
       "    <tr>\n",
       "      <th>0</th>\n",
       "      <td>1</td>\n",
       "      <td>3</td>\n",
       "      <td>Braund, Mr. Owen Harris</td>\n",
       "      <td>male</td>\n",
       "      <td>22</td>\n",
       "      <td>1</td>\n",
       "      <td>0</td>\n",
       "      <td>A/5 21171</td>\n",
       "      <td>7.2500</td>\n",
       "      <td>S</td>\n",
       "    </tr>\n",
       "    <tr>\n",
       "      <th>1</th>\n",
       "      <td>2</td>\n",
       "      <td>1</td>\n",
       "      <td>Cumings, Mrs. John Bradley (Florence Briggs Th...</td>\n",
       "      <td>female</td>\n",
       "      <td>38</td>\n",
       "      <td>1</td>\n",
       "      <td>0</td>\n",
       "      <td>PC 17599</td>\n",
       "      <td>71.2833</td>\n",
       "      <td>C</td>\n",
       "    </tr>\n",
       "    <tr>\n",
       "      <th>2</th>\n",
       "      <td>3</td>\n",
       "      <td>3</td>\n",
       "      <td>Heikkinen, Miss. Laina</td>\n",
       "      <td>female</td>\n",
       "      <td>26</td>\n",
       "      <td>0</td>\n",
       "      <td>0</td>\n",
       "      <td>STON/O2. 3101282</td>\n",
       "      <td>7.9250</td>\n",
       "      <td>S</td>\n",
       "    </tr>\n",
       "    <tr>\n",
       "      <th>3</th>\n",
       "      <td>4</td>\n",
       "      <td>1</td>\n",
       "      <td>Futrelle, Mrs. Jacques Heath (Lily May Peel)</td>\n",
       "      <td>female</td>\n",
       "      <td>35</td>\n",
       "      <td>1</td>\n",
       "      <td>0</td>\n",
       "      <td>113803</td>\n",
       "      <td>53.1000</td>\n",
       "      <td>S</td>\n",
       "    </tr>\n",
       "    <tr>\n",
       "      <th>4</th>\n",
       "      <td>5</td>\n",
       "      <td>3</td>\n",
       "      <td>Allen, Mr. William Henry</td>\n",
       "      <td>male</td>\n",
       "      <td>35</td>\n",
       "      <td>0</td>\n",
       "      <td>0</td>\n",
       "      <td>373450</td>\n",
       "      <td>8.0500</td>\n",
       "      <td>S</td>\n",
       "    </tr>\n",
       "    <tr>\n",
       "      <th>...</th>\n",
       "      <td>...</td>\n",
       "      <td>...</td>\n",
       "      <td>...</td>\n",
       "      <td>...</td>\n",
       "      <td>...</td>\n",
       "      <td>...</td>\n",
       "      <td>...</td>\n",
       "      <td>...</td>\n",
       "      <td>...</td>\n",
       "      <td>...</td>\n",
       "    </tr>\n",
       "    <tr>\n",
       "      <th>886</th>\n",
       "      <td>887</td>\n",
       "      <td>2</td>\n",
       "      <td>Montvila, Rev. Juozas</td>\n",
       "      <td>male</td>\n",
       "      <td>27</td>\n",
       "      <td>0</td>\n",
       "      <td>0</td>\n",
       "      <td>211536</td>\n",
       "      <td>13.0000</td>\n",
       "      <td>S</td>\n",
       "    </tr>\n",
       "    <tr>\n",
       "      <th>887</th>\n",
       "      <td>888</td>\n",
       "      <td>1</td>\n",
       "      <td>Graham, Miss. Margaret Edith</td>\n",
       "      <td>female</td>\n",
       "      <td>19</td>\n",
       "      <td>0</td>\n",
       "      <td>0</td>\n",
       "      <td>112053</td>\n",
       "      <td>30.0000</td>\n",
       "      <td>S</td>\n",
       "    </tr>\n",
       "    <tr>\n",
       "      <th>888</th>\n",
       "      <td>889</td>\n",
       "      <td>3</td>\n",
       "      <td>Johnston, Miss. Catherine Helen \"Carrie\"</td>\n",
       "      <td>female</td>\n",
       "      <td>29</td>\n",
       "      <td>1</td>\n",
       "      <td>2</td>\n",
       "      <td>W./C. 6607</td>\n",
       "      <td>23.4500</td>\n",
       "      <td>S</td>\n",
       "    </tr>\n",
       "    <tr>\n",
       "      <th>889</th>\n",
       "      <td>890</td>\n",
       "      <td>1</td>\n",
       "      <td>Behr, Mr. Karl Howell</td>\n",
       "      <td>male</td>\n",
       "      <td>26</td>\n",
       "      <td>0</td>\n",
       "      <td>0</td>\n",
       "      <td>111369</td>\n",
       "      <td>30.0000</td>\n",
       "      <td>C</td>\n",
       "    </tr>\n",
       "    <tr>\n",
       "      <th>890</th>\n",
       "      <td>891</td>\n",
       "      <td>3</td>\n",
       "      <td>Dooley, Mr. Patrick</td>\n",
       "      <td>male</td>\n",
       "      <td>32</td>\n",
       "      <td>0</td>\n",
       "      <td>0</td>\n",
       "      <td>370376</td>\n",
       "      <td>7.7500</td>\n",
       "      <td>Q</td>\n",
       "    </tr>\n",
       "  </tbody>\n",
       "</table>\n",
       "<p>891 rows × 10 columns</p>\n",
       "</div>"
      ],
      "text/plain": [
       "     PassengerId  Pclass                                               Name  \\\n",
       "0              1       3                            Braund, Mr. Owen Harris   \n",
       "1              2       1  Cumings, Mrs. John Bradley (Florence Briggs Th...   \n",
       "2              3       3                             Heikkinen, Miss. Laina   \n",
       "3              4       1       Futrelle, Mrs. Jacques Heath (Lily May Peel)   \n",
       "4              5       3                           Allen, Mr. William Henry   \n",
       "..           ...     ...                                                ...   \n",
       "886          887       2                              Montvila, Rev. Juozas   \n",
       "887          888       1                       Graham, Miss. Margaret Edith   \n",
       "888          889       3           Johnston, Miss. Catherine Helen \"Carrie\"   \n",
       "889          890       1                              Behr, Mr. Karl Howell   \n",
       "890          891       3                                Dooley, Mr. Patrick   \n",
       "\n",
       "        Sex  Age  SibSp  Parch            Ticket     Fare Embarked  \n",
       "0      male   22      1      0         A/5 21171   7.2500        S  \n",
       "1    female   38      1      0          PC 17599  71.2833        C  \n",
       "2    female   26      0      0  STON/O2. 3101282   7.9250        S  \n",
       "3    female   35      1      0            113803  53.1000        S  \n",
       "4      male   35      0      0            373450   8.0500        S  \n",
       "..      ...  ...    ...    ...               ...      ...      ...  \n",
       "886    male   27      0      0            211536  13.0000        S  \n",
       "887  female   19      0      0            112053  30.0000        S  \n",
       "888  female   29      1      2        W./C. 6607  23.4500        S  \n",
       "889    male   26      0      0            111369  30.0000        C  \n",
       "890    male   32      0      0            370376   7.7500        Q  \n",
       "\n",
       "[891 rows x 10 columns]"
      ]
     },
     "execution_count": 14,
     "metadata": {},
     "output_type": "execute_result"
    }
   ],
   "source": [
    "X_train"
   ]
  },
  {
   "cell_type": "code",
   "execution_count": 15,
   "id": "4ad9acee-8a6b-4ae2-8c4e-8b7a787f3c77",
   "metadata": {},
   "outputs": [
    {
     "data": {
      "text/plain": [
       "PassengerId    0\n",
       "Pclass         0\n",
       "Name           0\n",
       "Sex            0\n",
       "Age            0\n",
       "SibSp          0\n",
       "Parch          0\n",
       "Ticket         0\n",
       "Fare           1\n",
       "Embarked       0\n",
       "dtype: int64"
      ]
     },
     "execution_count": 15,
     "metadata": {},
     "output_type": "execute_result"
    }
   ],
   "source": [
    "X_test.isnull().sum()"
   ]
  },
  {
   "cell_type": "code",
   "execution_count": 16,
   "id": "000b4b5f-aeb6-4be2-82a3-faf9ee79487d",
   "metadata": {},
   "outputs": [],
   "source": [
    "mediaTestF =  X_test[\"Fare\"].mean()\n",
    "X_test[\"Fare\"] = X_test[\"Fare\"].fillna(mediaTestF)\n",
    "X_test[\"Fare\"] = X_test[\"Fare\"].fillna(mediaTestF).astype(int)"
   ]
  },
  {
   "cell_type": "code",
   "execution_count": 17,
   "id": "63503828-e01d-4a65-a299-a6e67f5134c1",
   "metadata": {},
   "outputs": [],
   "source": [
    "modaTrainE =  X_train[\"Embarked\"].mode()\n",
    "X_train[\"Embarked\"] = X_train[\"Embarked\"].fillna(modaTrainE)\n",
    "X_train[\"Embarked\"] = X_train[\"Embarked\"].fillna(modaTrainE)"
   ]
  },
  {
   "cell_type": "markdown",
   "id": "d3ee6bd0-64c0-4ac8-b85c-da016cf66099",
   "metadata": {},
   "source": [
    "## Analisis exploratorio\n"
   ]
  },
  {
   "cell_type": "code",
   "execution_count": 19,
   "id": "d8ba0d96-f08c-4936-b609-3f21686f8b2a",
   "metadata": {},
   "outputs": [],
   "source": [
    "X_train['Survived'] = y_train\n",
    "claseTR = X_train.groupby(\"Pclass\").agg({\n",
    "    \"Survived\": \"sum\"\n",
    "}).reset_index()"
   ]
  },
  {
   "cell_type": "code",
   "execution_count": 20,
   "id": "35fab587-f6b2-48e8-b55b-fa4c08ffd8ab",
   "metadata": {},
   "outputs": [],
   "source": [
    "X_train['Survived'] = y_train\n",
    "SexoTR = X_train.groupby(\"Sex\").agg({\n",
    "    \"Survived\" : \"sum\"\n",
    "}).reset_index()"
   ]
  },
  {
   "cell_type": "code",
   "execution_count": 21,
   "id": "1eeba714-14e2-42e9-9144-08ffc3f452ed",
   "metadata": {},
   "outputs": [],
   "source": [
    "X_train['rango'] = None\n",
    "\n",
    "X_train.loc[X_train['Fare'].between(0, 50),      'rango'] = \"0 - 50\"\n",
    "X_train.loc[X_train['Fare'].between(51, 150),    'rango'] = \"51 - 150\"\n",
    "X_train.loc[X_train['Fare'].between(151, 250),   'rango'] = \"151 - 250\"\n",
    "X_train.loc[X_train['Fare'] >= 251,              'rango'] = \"251 - 515\""
   ]
  },
  {
   "cell_type": "code",
   "execution_count": 22,
   "id": "ddb2ec4e-e1fe-414c-87b5-4369464076d5",
   "metadata": {},
   "outputs": [
    {
     "data": {
      "text/html": [
       "<div>\n",
       "<style scoped>\n",
       "    .dataframe tbody tr th:only-of-type {\n",
       "        vertical-align: middle;\n",
       "    }\n",
       "\n",
       "    .dataframe tbody tr th {\n",
       "        vertical-align: top;\n",
       "    }\n",
       "\n",
       "    .dataframe thead th {\n",
       "        text-align: right;\n",
       "    }\n",
       "</style>\n",
       "<table border=\"1\" class=\"dataframe\">\n",
       "  <thead>\n",
       "    <tr style=\"text-align: right;\">\n",
       "      <th></th>\n",
       "      <th>PassengerId</th>\n",
       "      <th>Pclass</th>\n",
       "      <th>Name</th>\n",
       "      <th>Sex</th>\n",
       "      <th>Age</th>\n",
       "      <th>SibSp</th>\n",
       "      <th>Parch</th>\n",
       "      <th>Ticket</th>\n",
       "      <th>Fare</th>\n",
       "      <th>Embarked</th>\n",
       "      <th>Survived</th>\n",
       "      <th>rango</th>\n",
       "    </tr>\n",
       "  </thead>\n",
       "  <tbody>\n",
       "    <tr>\n",
       "      <th>0</th>\n",
       "      <td>1</td>\n",
       "      <td>3</td>\n",
       "      <td>Braund, Mr. Owen Harris</td>\n",
       "      <td>male</td>\n",
       "      <td>22</td>\n",
       "      <td>1</td>\n",
       "      <td>0</td>\n",
       "      <td>A/5 21171</td>\n",
       "      <td>7.2500</td>\n",
       "      <td>S</td>\n",
       "      <td>0</td>\n",
       "      <td>0 - 50</td>\n",
       "    </tr>\n",
       "    <tr>\n",
       "      <th>1</th>\n",
       "      <td>2</td>\n",
       "      <td>1</td>\n",
       "      <td>Cumings, Mrs. John Bradley (Florence Briggs Th...</td>\n",
       "      <td>female</td>\n",
       "      <td>38</td>\n",
       "      <td>1</td>\n",
       "      <td>0</td>\n",
       "      <td>PC 17599</td>\n",
       "      <td>71.2833</td>\n",
       "      <td>C</td>\n",
       "      <td>1</td>\n",
       "      <td>51 - 150</td>\n",
       "    </tr>\n",
       "    <tr>\n",
       "      <th>2</th>\n",
       "      <td>3</td>\n",
       "      <td>3</td>\n",
       "      <td>Heikkinen, Miss. Laina</td>\n",
       "      <td>female</td>\n",
       "      <td>26</td>\n",
       "      <td>0</td>\n",
       "      <td>0</td>\n",
       "      <td>STON/O2. 3101282</td>\n",
       "      <td>7.9250</td>\n",
       "      <td>S</td>\n",
       "      <td>1</td>\n",
       "      <td>0 - 50</td>\n",
       "    </tr>\n",
       "    <tr>\n",
       "      <th>3</th>\n",
       "      <td>4</td>\n",
       "      <td>1</td>\n",
       "      <td>Futrelle, Mrs. Jacques Heath (Lily May Peel)</td>\n",
       "      <td>female</td>\n",
       "      <td>35</td>\n",
       "      <td>1</td>\n",
       "      <td>0</td>\n",
       "      <td>113803</td>\n",
       "      <td>53.1000</td>\n",
       "      <td>S</td>\n",
       "      <td>1</td>\n",
       "      <td>51 - 150</td>\n",
       "    </tr>\n",
       "    <tr>\n",
       "      <th>4</th>\n",
       "      <td>5</td>\n",
       "      <td>3</td>\n",
       "      <td>Allen, Mr. William Henry</td>\n",
       "      <td>male</td>\n",
       "      <td>35</td>\n",
       "      <td>0</td>\n",
       "      <td>0</td>\n",
       "      <td>373450</td>\n",
       "      <td>8.0500</td>\n",
       "      <td>S</td>\n",
       "      <td>0</td>\n",
       "      <td>0 - 50</td>\n",
       "    </tr>\n",
       "    <tr>\n",
       "      <th>...</th>\n",
       "      <td>...</td>\n",
       "      <td>...</td>\n",
       "      <td>...</td>\n",
       "      <td>...</td>\n",
       "      <td>...</td>\n",
       "      <td>...</td>\n",
       "      <td>...</td>\n",
       "      <td>...</td>\n",
       "      <td>...</td>\n",
       "      <td>...</td>\n",
       "      <td>...</td>\n",
       "      <td>...</td>\n",
       "    </tr>\n",
       "    <tr>\n",
       "      <th>886</th>\n",
       "      <td>887</td>\n",
       "      <td>2</td>\n",
       "      <td>Montvila, Rev. Juozas</td>\n",
       "      <td>male</td>\n",
       "      <td>27</td>\n",
       "      <td>0</td>\n",
       "      <td>0</td>\n",
       "      <td>211536</td>\n",
       "      <td>13.0000</td>\n",
       "      <td>S</td>\n",
       "      <td>0</td>\n",
       "      <td>0 - 50</td>\n",
       "    </tr>\n",
       "    <tr>\n",
       "      <th>887</th>\n",
       "      <td>888</td>\n",
       "      <td>1</td>\n",
       "      <td>Graham, Miss. Margaret Edith</td>\n",
       "      <td>female</td>\n",
       "      <td>19</td>\n",
       "      <td>0</td>\n",
       "      <td>0</td>\n",
       "      <td>112053</td>\n",
       "      <td>30.0000</td>\n",
       "      <td>S</td>\n",
       "      <td>1</td>\n",
       "      <td>0 - 50</td>\n",
       "    </tr>\n",
       "    <tr>\n",
       "      <th>888</th>\n",
       "      <td>889</td>\n",
       "      <td>3</td>\n",
       "      <td>Johnston, Miss. Catherine Helen \"Carrie\"</td>\n",
       "      <td>female</td>\n",
       "      <td>29</td>\n",
       "      <td>1</td>\n",
       "      <td>2</td>\n",
       "      <td>W./C. 6607</td>\n",
       "      <td>23.4500</td>\n",
       "      <td>S</td>\n",
       "      <td>0</td>\n",
       "      <td>0 - 50</td>\n",
       "    </tr>\n",
       "    <tr>\n",
       "      <th>889</th>\n",
       "      <td>890</td>\n",
       "      <td>1</td>\n",
       "      <td>Behr, Mr. Karl Howell</td>\n",
       "      <td>male</td>\n",
       "      <td>26</td>\n",
       "      <td>0</td>\n",
       "      <td>0</td>\n",
       "      <td>111369</td>\n",
       "      <td>30.0000</td>\n",
       "      <td>C</td>\n",
       "      <td>1</td>\n",
       "      <td>0 - 50</td>\n",
       "    </tr>\n",
       "    <tr>\n",
       "      <th>890</th>\n",
       "      <td>891</td>\n",
       "      <td>3</td>\n",
       "      <td>Dooley, Mr. Patrick</td>\n",
       "      <td>male</td>\n",
       "      <td>32</td>\n",
       "      <td>0</td>\n",
       "      <td>0</td>\n",
       "      <td>370376</td>\n",
       "      <td>7.7500</td>\n",
       "      <td>Q</td>\n",
       "      <td>0</td>\n",
       "      <td>0 - 50</td>\n",
       "    </tr>\n",
       "  </tbody>\n",
       "</table>\n",
       "<p>891 rows × 12 columns</p>\n",
       "</div>"
      ],
      "text/plain": [
       "     PassengerId  Pclass                                               Name  \\\n",
       "0              1       3                            Braund, Mr. Owen Harris   \n",
       "1              2       1  Cumings, Mrs. John Bradley (Florence Briggs Th...   \n",
       "2              3       3                             Heikkinen, Miss. Laina   \n",
       "3              4       1       Futrelle, Mrs. Jacques Heath (Lily May Peel)   \n",
       "4              5       3                           Allen, Mr. William Henry   \n",
       "..           ...     ...                                                ...   \n",
       "886          887       2                              Montvila, Rev. Juozas   \n",
       "887          888       1                       Graham, Miss. Margaret Edith   \n",
       "888          889       3           Johnston, Miss. Catherine Helen \"Carrie\"   \n",
       "889          890       1                              Behr, Mr. Karl Howell   \n",
       "890          891       3                                Dooley, Mr. Patrick   \n",
       "\n",
       "        Sex  Age  SibSp  Parch            Ticket     Fare Embarked  Survived  \\\n",
       "0      male   22      1      0         A/5 21171   7.2500        S         0   \n",
       "1    female   38      1      0          PC 17599  71.2833        C         1   \n",
       "2    female   26      0      0  STON/O2. 3101282   7.9250        S         1   \n",
       "3    female   35      1      0            113803  53.1000        S         1   \n",
       "4      male   35      0      0            373450   8.0500        S         0   \n",
       "..      ...  ...    ...    ...               ...      ...      ...       ...   \n",
       "886    male   27      0      0            211536  13.0000        S         0   \n",
       "887  female   19      0      0            112053  30.0000        S         1   \n",
       "888  female   29      1      2        W./C. 6607  23.4500        S         0   \n",
       "889    male   26      0      0            111369  30.0000        C         1   \n",
       "890    male   32      0      0            370376   7.7500        Q         0   \n",
       "\n",
       "        rango  \n",
       "0      0 - 50  \n",
       "1    51 - 150  \n",
       "2      0 - 50  \n",
       "3    51 - 150  \n",
       "4      0 - 50  \n",
       "..        ...  \n",
       "886    0 - 50  \n",
       "887    0 - 50  \n",
       "888    0 - 50  \n",
       "889    0 - 50  \n",
       "890    0 - 50  \n",
       "\n",
       "[891 rows x 12 columns]"
      ]
     },
     "execution_count": 22,
     "metadata": {},
     "output_type": "execute_result"
    }
   ],
   "source": [
    "X_train"
   ]
  },
  {
   "cell_type": "code",
   "execution_count": 23,
   "id": "baf5e61a-991d-4cb1-b3b8-2f13bc5430ab",
   "metadata": {},
   "outputs": [],
   "source": [
    "X_train['Survived'] = y_train\n",
    "CostoTR = X_train.groupby(\"rango\").agg({\n",
    "    \"Survived\" : \"sum\"\n",
    "}).reset_index()"
   ]
  },
  {
   "cell_type": "code",
   "execution_count": 24,
   "id": "c14cb972-ac5a-42c6-9d9e-25fcef887846",
   "metadata": {},
   "outputs": [
    {
     "data": {
      "text/plain": [
       "Text(0, 0.5, 'N° de sobrevivientes')"
      ]
     },
     "execution_count": 24,
     "metadata": {},
     "output_type": "execute_result"
    },
    {
     "data": {
      "image/png": "[encoded data removed]",
      "text/plain": [
       "<Figure size 800x500 with 1 Axes>"
      ]
     },
     "metadata": {},
     "output_type": "display_data"
    }
   ],
   "source": [
    "plt.figure(figsize=(8, 5))\n",
    "sns.barplot(data=claseTR, x=\"Pclass\", y=\"Survived\", color=\"blue\")\n",
    "\n",
    "plt.title(\"Sobrevivientes por clase (Train)\")\n",
    "plt.xlabel(\"Clase\")\n",
    "plt.ylabel(\"N° de sobrevivientes\")\n"
   ]
  },
  {
   "cell_type": "code",
   "execution_count": 25,
   "id": "7bbbe8be-1b54-4b3c-b2f0-36d258805892",
   "metadata": {},
   "outputs": [
    {
     "name": "stdout",
     "output_type": "stream",
     "text": [
      "   Pclass  Survived\n",
      "0       1       136\n",
      "1       2        87\n",
      "2       3       119\n"
     ]
    }
   ],
   "source": [
    "print(claseTR)\n"
   ]
  },
  {
   "cell_type": "code",
   "execution_count": 26,
   "id": "f2127221-27d1-4338-ad09-72b66ab10ee3",
   "metadata": {},
   "outputs": [
    {
     "data": {
      "text/plain": [
       "Text(0, 0.5, 'N° de sobrevivientes')"
      ]
     },
     "execution_count": 26,
     "metadata": {},
     "output_type": "execute_result"
    },
    {
     "data": {
      "image/png": "[encoded data removed]",
      "text/plain": [
       "<Figure size 600x500 with 1 Axes>"
      ]
     },
     "metadata": {},
     "output_type": "display_data"
    }
   ],
   "source": [
    "plt.figure(figsize=(6, 5))\n",
    "sns.barplot(data=SexoTR, x=\"Sex\", y=\"Survived\", color=\"blue\")\n",
    "\n",
    "plt.title(\"Sobrevivientes por sexo (Train)\")\n",
    "plt.xlabel(\"Sexo\")\n",
    "plt.ylabel(\"N° de sobrevivientes\")\n"
   ]
  },
  {
   "cell_type": "code",
   "execution_count": 27,
   "id": "b1dac34b-fd42-4f28-9466-e6aac2daff22",
   "metadata": {},
   "outputs": [
    {
     "name": "stdout",
     "output_type": "stream",
     "text": [
      "      Sex  Survived\n",
      "0  female       233\n",
      "1    male       109\n"
     ]
    }
   ],
   "source": [
    "print(SexoTR)\n"
   ]
  },
  {
   "cell_type": "code",
   "execution_count": 28,
   "id": "e284d5b3-73f7-4e4b-8fbd-ca2ae74a483d",
   "metadata": {},
   "outputs": [
    {
     "data": {
      "text/plain": [
       "Text(0, 0.5, 'N° de sobrevivientes')"
      ]
     },
     "execution_count": 28,
     "metadata": {},
     "output_type": "execute_result"
    },
    {
     "data": {
      "image/png": "[encoded data removed]",
      "text/plain": [
       "<Figure size 800x600 with 1 Axes>"
      ]
     },
     "metadata": {},
     "output_type": "display_data"
    }
   ],
   "source": [
    "plt.figure(figsize=(8, 6))\n",
    "sns.barplot(data=CostoTR, x=\"rango\", y=\"Survived\", color=\"blue\")\n",
    "\n",
    "plt.title(\"Sobrevivientes por rango de tarifa\")\n",
    "plt.xlabel(\"Rango de tarifa\")\n",
    "plt.ylabel(\"N° de sobrevivientes\")"
   ]
  },
  {
   "cell_type": "code",
   "execution_count": 29,
   "id": "067cd0a1-bdc0-4273-8b51-bf45e1ac4c55",
   "metadata": {},
   "outputs": [
    {
     "name": "stdout",
     "output_type": "stream",
     "text": [
      "       rango  Survived\n",
      "0     0 - 50       233\n",
      "1  151 - 250        13\n",
      "2  251 - 515         7\n",
      "3   51 - 150        89\n"
     ]
    }
   ],
   "source": [
    "print(CostoTR)"
   ]
  },
  {
   "cell_type": "code",
   "execution_count": 30,
   "id": "08254545-e973-427f-9e75-c0e909650f51",
   "metadata": {},
   "outputs": [],
   "source": [
    "X_train = X_train.drop(\n",
    "    columns = \"rango\"\n",
    ")\n"
   ]
  },
  {
   "cell_type": "markdown",
   "id": "df3e9b83-442b-457a-9423-c765749eadb1",
   "metadata": {},
   "source": [
    "## GENERAMOS DUMMIES"
   ]
  },
  {
   "cell_type": "code",
   "execution_count": 32,
   "id": "813a6665-f27e-47d8-8db2-4233721e0885",
   "metadata": {},
   "outputs": [],
   "source": [
    "X_train = pd.get_dummies(\n",
    "    X_train,\n",
    "    columns=['Pclass', 'Embarked', 'Sex'],\n",
    "    drop_first=True\n",
    ")\n",
    "\n",
    "X_test = pd.get_dummies(\n",
    "    X_test,\n",
    "    columns=['Pclass', 'Embarked', 'Sex'],\n",
    "    drop_first=True\n",
    ")"
   ]
  },
  {
   "cell_type": "code",
   "execution_count": 33,
   "id": "03855af3-dbf2-4751-a9b1-c017d74de86f",
   "metadata": {},
   "outputs": [
    {
     "data": {
      "text/plain": [
       "Index(['PassengerId', 'Name', 'Age', 'SibSp', 'Parch', 'Ticket', 'Fare',\n",
       "       'Survived', 'Pclass_2', 'Pclass_3', 'Embarked_Q', 'Embarked_S',\n",
       "       'Sex_male'],\n",
       "      dtype='object')"
      ]
     },
     "execution_count": 33,
     "metadata": {},
     "output_type": "execute_result"
    }
   ],
   "source": [
    "X_train.columns"
   ]
  },
  {
   "cell_type": "code",
   "execution_count": 34,
   "id": "a585ddac-8937-46e6-ac9a-343e42a0c81e",
   "metadata": {},
   "outputs": [
    {
     "data": {
      "text/plain": [
       "Index(['PassengerId', 'Name', 'Age', 'SibSp', 'Parch', 'Ticket', 'Fare',\n",
       "       'Pclass_2', 'Pclass_3', 'Embarked_Q', 'Embarked_S', 'Sex_male'],\n",
       "      dtype='object')"
      ]
     },
     "execution_count": 34,
     "metadata": {},
     "output_type": "execute_result"
    }
   ],
   "source": [
    "X_test.columns"
   ]
  },
  {
   "cell_type": "markdown",
   "id": "17321f8e-b527-49bc-92aa-0ffd7e82727d",
   "metadata": {},
   "source": [
    "## Eliminar columnas con poca relevancia para el modelo"
   ]
  },
  {
   "cell_type": "code",
   "execution_count": 36,
   "id": "4e9f62c2-ee9f-4fe8-a622-2ee6236968aa",
   "metadata": {},
   "outputs": [],
   "source": [
    "X_train = X_train.drop(\n",
    "    columns = [\"Ticket\",\"Name\",\"PassengerId\"]\n",
    ")\n",
    "X_test = X_test.drop(\n",
    "    columns = [\"Ticket\",\"Name\",\"PassengerId\"]\n",
    ")"
   ]
  },
  {
   "cell_type": "markdown",
   "id": "370ef732-90ea-4ed2-a225-6cf86936b7fb",
   "metadata": {},
   "source": [
    "## AGREGAMOS COLUMNA ISMINOR"
   ]
  },
  {
   "cell_type": "code",
   "execution_count": 38,
   "id": "c638100f-753c-46a6-a215-322791b8eabc",
   "metadata": {},
   "outputs": [],
   "source": [
    "X_test[\"IsMinor\"] = 0\n",
    "\n",
    "for i in X_test.index:\n",
    "    edad = X_test.loc[i, \"Age\"]       \n",
    "    if edad <= 16:\n",
    "        X_test.loc[i, \"IsMinor\"] = 1  \n",
    "    else:\n",
    "        X_test.loc[i, \"IsMinor\"] = 0"
   ]
  },
  {
   "cell_type": "code",
   "execution_count": 39,
   "id": "1378b40a-9c07-4a3a-afd0-337a023c478b",
   "metadata": {},
   "outputs": [
    {
     "data": {
      "text/html": [
       "<div>\n",
       "<style scoped>\n",
       "    .dataframe tbody tr th:only-of-type {\n",
       "        vertical-align: middle;\n",
       "    }\n",
       "\n",
       "    .dataframe tbody tr th {\n",
       "        vertical-align: top;\n",
       "    }\n",
       "\n",
       "    .dataframe thead th {\n",
       "        text-align: right;\n",
       "    }\n",
       "</style>\n",
       "<table border=\"1\" class=\"dataframe\">\n",
       "  <thead>\n",
       "    <tr style=\"text-align: right;\">\n",
       "      <th></th>\n",
       "      <th>Age</th>\n",
       "      <th>SibSp</th>\n",
       "      <th>Parch</th>\n",
       "      <th>Fare</th>\n",
       "      <th>Pclass_2</th>\n",
       "      <th>Pclass_3</th>\n",
       "      <th>Embarked_Q</th>\n",
       "      <th>Embarked_S</th>\n",
       "      <th>Sex_male</th>\n",
       "      <th>IsMinor</th>\n",
       "    </tr>\n",
       "  </thead>\n",
       "  <tbody>\n",
       "    <tr>\n",
       "      <th>0</th>\n",
       "      <td>34</td>\n",
       "      <td>0</td>\n",
       "      <td>0</td>\n",
       "      <td>7</td>\n",
       "      <td>False</td>\n",
       "      <td>True</td>\n",
       "      <td>True</td>\n",
       "      <td>False</td>\n",
       "      <td>True</td>\n",
       "      <td>0</td>\n",
       "    </tr>\n",
       "    <tr>\n",
       "      <th>1</th>\n",
       "      <td>47</td>\n",
       "      <td>1</td>\n",
       "      <td>0</td>\n",
       "      <td>7</td>\n",
       "      <td>False</td>\n",
       "      <td>True</td>\n",
       "      <td>False</td>\n",
       "      <td>True</td>\n",
       "      <td>False</td>\n",
       "      <td>0</td>\n",
       "    </tr>\n",
       "  </tbody>\n",
       "</table>\n",
       "</div>"
      ],
      "text/plain": [
       "   Age  SibSp  Parch  Fare  Pclass_2  Pclass_3  Embarked_Q  Embarked_S  \\\n",
       "0   34      0      0     7     False      True        True       False   \n",
       "1   47      1      0     7     False      True       False        True   \n",
       "\n",
       "   Sex_male  IsMinor  \n",
       "0      True        0  \n",
       "1     False        0  "
      ]
     },
     "execution_count": 39,
     "metadata": {},
     "output_type": "execute_result"
    }
   ],
   "source": [
    "X_test.head(2)"
   ]
  },
  {
   "cell_type": "code",
   "execution_count": 40,
   "id": "ea40f447-faf9-499a-b0ef-9129ca20dd47",
   "metadata": {},
   "outputs": [],
   "source": [
    "X_train[\"IsMinor\"] = 0\n",
    "\n",
    "for i in X_train.index:\n",
    "    edad = X_train.loc[i, \"Age\"]       \n",
    "    if edad <= 16:\n",
    "        X_train.loc[i, \"IsMinor\"] = 1  \n",
    "    else:\n",
    "        X_train.loc[i, \"IsMinor\"] = 0"
   ]
  },
  {
   "cell_type": "code",
   "execution_count": 41,
   "id": "b0c4174c-cb17-442b-a8ce-968b2b24c5cf",
   "metadata": {},
   "outputs": [
    {
     "data": {
      "text/plain": [
       "Age           0\n",
       "SibSp         0\n",
       "Parch         0\n",
       "Fare          0\n",
       "Survived      0\n",
       "Pclass_2      0\n",
       "Pclass_3      0\n",
       "Embarked_Q    0\n",
       "Embarked_S    0\n",
       "Sex_male      0\n",
       "IsMinor       0\n",
       "dtype: int64"
      ]
     },
     "execution_count": 41,
     "metadata": {},
     "output_type": "execute_result"
    }
   ],
   "source": [
    "X_train.isnull().sum()"
   ]
  },
  {
   "cell_type": "markdown",
   "id": "cf42e214-90db-4a7d-8de3-fdbb6225c316",
   "metadata": {},
   "source": [
    "## AJUSTAMOS MODELO"
   ]
  },
  {
   "cell_type": "code",
   "execution_count": 43,
   "id": "2feef4c1-7653-4c42-a7df-b29b5321d7b1",
   "metadata": {},
   "outputs": [],
   "source": [
    "X_train = X_train.drop(\n",
    "    columns = \"Survived\")"
   ]
  },
  {
   "cell_type": "code",
   "execution_count": 44,
   "id": "3d768251-2539-4e1f-bd58-503ffe3377f5",
   "metadata": {},
   "outputs": [],
   "source": [
    "from sklearn.feature_selection import RFE\n",
    "from sklearn.linear_model import LogisticRegression"
   ]
  },
  {
   "cell_type": "code",
   "execution_count": 45,
   "id": "e8532bec-7950-4575-8f69-c507c6c93d95",
   "metadata": {},
   "outputs": [],
   "source": [
    "lr = LogisticRegression(max_iter = 10000000)"
   ]
  },
  {
   "cell_type": "code",
   "execution_count": 46,
   "id": "9b954e4d-a698-4b27-90cb-7cacb7998ee3",
   "metadata": {},
   "outputs": [],
   "source": [
    "rfe = RFE(lr, n_features_to_select = 10)\n",
    "rfe = rfe.fit(X_train, y_train)"
   ]
  },
  {
   "cell_type": "code",
   "execution_count": 47,
   "id": "7ce39a71-4a56-43f6-adda-6b26efe700c7",
   "metadata": {},
   "outputs": [
    {
     "data": {
      "text/html": [
       "<div>\n",
       "<style scoped>\n",
       "    .dataframe tbody tr th:only-of-type {\n",
       "        vertical-align: middle;\n",
       "    }\n",
       "\n",
       "    .dataframe tbody tr th {\n",
       "        vertical-align: top;\n",
       "    }\n",
       "\n",
       "    .dataframe thead th {\n",
       "        text-align: right;\n",
       "    }\n",
       "</style>\n",
       "<table border=\"1\" class=\"dataframe\">\n",
       "  <thead>\n",
       "    <tr style=\"text-align: right;\">\n",
       "      <th></th>\n",
       "      <th>Age</th>\n",
       "      <th>SibSp</th>\n",
       "      <th>Parch</th>\n",
       "      <th>Fare</th>\n",
       "      <th>Pclass_2</th>\n",
       "      <th>Pclass_3</th>\n",
       "      <th>Embarked_Q</th>\n",
       "      <th>Embarked_S</th>\n",
       "      <th>Sex_male</th>\n",
       "      <th>IsMinor</th>\n",
       "    </tr>\n",
       "  </thead>\n",
       "  <tbody>\n",
       "    <tr>\n",
       "      <th>0</th>\n",
       "      <td>22</td>\n",
       "      <td>1</td>\n",
       "      <td>0</td>\n",
       "      <td>7.2500</td>\n",
       "      <td>False</td>\n",
       "      <td>True</td>\n",
       "      <td>False</td>\n",
       "      <td>True</td>\n",
       "      <td>True</td>\n",
       "      <td>0</td>\n",
       "    </tr>\n",
       "    <tr>\n",
       "      <th>1</th>\n",
       "      <td>38</td>\n",
       "      <td>1</td>\n",
       "      <td>0</td>\n",
       "      <td>71.2833</td>\n",
       "      <td>False</td>\n",
       "      <td>False</td>\n",
       "      <td>False</td>\n",
       "      <td>False</td>\n",
       "      <td>False</td>\n",
       "      <td>0</td>\n",
       "    </tr>\n",
       "    <tr>\n",
       "      <th>2</th>\n",
       "      <td>26</td>\n",
       "      <td>0</td>\n",
       "      <td>0</td>\n",
       "      <td>7.9250</td>\n",
       "      <td>False</td>\n",
       "      <td>True</td>\n",
       "      <td>False</td>\n",
       "      <td>True</td>\n",
       "      <td>False</td>\n",
       "      <td>0</td>\n",
       "    </tr>\n",
       "    <tr>\n",
       "      <th>3</th>\n",
       "      <td>35</td>\n",
       "      <td>1</td>\n",
       "      <td>0</td>\n",
       "      <td>53.1000</td>\n",
       "      <td>False</td>\n",
       "      <td>False</td>\n",
       "      <td>False</td>\n",
       "      <td>True</td>\n",
       "      <td>False</td>\n",
       "      <td>0</td>\n",
       "    </tr>\n",
       "    <tr>\n",
       "      <th>4</th>\n",
       "      <td>35</td>\n",
       "      <td>0</td>\n",
       "      <td>0</td>\n",
       "      <td>8.0500</td>\n",
       "      <td>False</td>\n",
       "      <td>True</td>\n",
       "      <td>False</td>\n",
       "      <td>True</td>\n",
       "      <td>True</td>\n",
       "      <td>0</td>\n",
       "    </tr>\n",
       "    <tr>\n",
       "      <th>...</th>\n",
       "      <td>...</td>\n",
       "      <td>...</td>\n",
       "      <td>...</td>\n",
       "      <td>...</td>\n",
       "      <td>...</td>\n",
       "      <td>...</td>\n",
       "      <td>...</td>\n",
       "      <td>...</td>\n",
       "      <td>...</td>\n",
       "      <td>...</td>\n",
       "    </tr>\n",
       "    <tr>\n",
       "      <th>886</th>\n",
       "      <td>27</td>\n",
       "      <td>0</td>\n",
       "      <td>0</td>\n",
       "      <td>13.0000</td>\n",
       "      <td>True</td>\n",
       "      <td>False</td>\n",
       "      <td>False</td>\n",
       "      <td>True</td>\n",
       "      <td>True</td>\n",
       "      <td>0</td>\n",
       "    </tr>\n",
       "    <tr>\n",
       "      <th>887</th>\n",
       "      <td>19</td>\n",
       "      <td>0</td>\n",
       "      <td>0</td>\n",
       "      <td>30.0000</td>\n",
       "      <td>False</td>\n",
       "      <td>False</td>\n",
       "      <td>False</td>\n",
       "      <td>True</td>\n",
       "      <td>False</td>\n",
       "      <td>0</td>\n",
       "    </tr>\n",
       "    <tr>\n",
       "      <th>888</th>\n",
       "      <td>29</td>\n",
       "      <td>1</td>\n",
       "      <td>2</td>\n",
       "      <td>23.4500</td>\n",
       "      <td>False</td>\n",
       "      <td>True</td>\n",
       "      <td>False</td>\n",
       "      <td>True</td>\n",
       "      <td>False</td>\n",
       "      <td>0</td>\n",
       "    </tr>\n",
       "    <tr>\n",
       "      <th>889</th>\n",
       "      <td>26</td>\n",
       "      <td>0</td>\n",
       "      <td>0</td>\n",
       "      <td>30.0000</td>\n",
       "      <td>False</td>\n",
       "      <td>False</td>\n",
       "      <td>False</td>\n",
       "      <td>False</td>\n",
       "      <td>True</td>\n",
       "      <td>0</td>\n",
       "    </tr>\n",
       "    <tr>\n",
       "      <th>890</th>\n",
       "      <td>32</td>\n",
       "      <td>0</td>\n",
       "      <td>0</td>\n",
       "      <td>7.7500</td>\n",
       "      <td>False</td>\n",
       "      <td>True</td>\n",
       "      <td>True</td>\n",
       "      <td>False</td>\n",
       "      <td>True</td>\n",
       "      <td>0</td>\n",
       "    </tr>\n",
       "  </tbody>\n",
       "</table>\n",
       "<p>891 rows × 10 columns</p>\n",
       "</div>"
      ],
      "text/plain": [
       "     Age  SibSp  Parch     Fare  Pclass_2  Pclass_3  Embarked_Q  Embarked_S  \\\n",
       "0     22      1      0   7.2500     False      True       False        True   \n",
       "1     38      1      0  71.2833     False     False       False       False   \n",
       "2     26      0      0   7.9250     False      True       False        True   \n",
       "3     35      1      0  53.1000     False     False       False        True   \n",
       "4     35      0      0   8.0500     False      True       False        True   \n",
       "..   ...    ...    ...      ...       ...       ...         ...         ...   \n",
       "886   27      0      0  13.0000      True     False       False        True   \n",
       "887   19      0      0  30.0000     False     False       False        True   \n",
       "888   29      1      2  23.4500     False      True       False        True   \n",
       "889   26      0      0  30.0000     False     False       False       False   \n",
       "890   32      0      0   7.7500     False      True        True       False   \n",
       "\n",
       "     Sex_male  IsMinor  \n",
       "0        True        0  \n",
       "1       False        0  \n",
       "2       False        0  \n",
       "3       False        0  \n",
       "4        True        0  \n",
       "..        ...      ...  \n",
       "886      True        0  \n",
       "887     False        0  \n",
       "888     False        0  \n",
       "889      True        0  \n",
       "890      True        0  \n",
       "\n",
       "[891 rows x 10 columns]"
      ]
     },
     "execution_count": 47,
     "metadata": {},
     "output_type": "execute_result"
    }
   ],
   "source": [
    "X_train.loc[:,rfe.support_]"
   ]
  },
  {
   "cell_type": "markdown",
   "id": "a9dba403-7294-47b1-bf56-44f23da9491f",
   "metadata": {},
   "source": [
    "## VALIDAMOS MODELO"
   ]
  },
  {
   "cell_type": "code",
   "execution_count": 50,
   "id": "e057fccc-d687-4b86-94c2-d44e019cef3f",
   "metadata": {},
   "outputs": [],
   "source": [
    "X_train_final = X_train.loc[:,rfe.support_]\n"
   ]
  },
  {
   "cell_type": "code",
   "execution_count": 51,
   "id": "28d9f81a-fb56-476e-ad35-75e471f543b0",
   "metadata": {},
   "outputs": [
    {
     "data": {
      "text/plain": [
       "Index(['Age', 'SibSp', 'Parch', 'Fare', 'Pclass_2', 'Pclass_3', 'Embarked_Q',\n",
       "       'Embarked_S', 'Sex_male', 'IsMinor'],\n",
       "      dtype='object')"
      ]
     },
     "execution_count": 51,
     "metadata": {},
     "output_type": "execute_result"
    }
   ],
   "source": [
    "X_train.columns"
   ]
  },
  {
   "cell_type": "code",
   "execution_count": 52,
   "id": "c876c2bc-3bf7-4d5b-9425-c9223ba71d51",
   "metadata": {},
   "outputs": [
    {
     "data": {
      "text/plain": [
       "Index(['Age', 'SibSp', 'Parch', 'Fare', 'Pclass_2', 'Pclass_3', 'Embarked_Q',\n",
       "       'Embarked_S', 'Sex_male', 'IsMinor'],\n",
       "      dtype='object')"
      ]
     },
     "execution_count": 52,
     "metadata": {},
     "output_type": "execute_result"
    }
   ],
   "source": [
    "X_test.columns"
   ]
  },
  {
   "cell_type": "code",
   "execution_count": 53,
   "id": "08eb4ba5-9ee6-4ca4-b6f8-410639ad0605",
   "metadata": {
    "scrolled": true
   },
   "outputs": [],
   "source": [
    "X_test_final = X_test.loc[:,rfe.support_]"
   ]
  },
  {
   "cell_type": "code",
   "execution_count": 55,
   "id": "c16cda76-6460-4ed3-9426-95b5e559968f",
   "metadata": {},
   "outputs": [
    {
     "data": {
      "text/plain": [
       "array([ True,  True,  True,  True,  True,  True,  True,  True,  True,\n",
       "        True])"
      ]
     },
     "execution_count": 55,
     "metadata": {},
     "output_type": "execute_result"
    }
   ],
   "source": [
    "rfe.support_"
   ]
  },
  {
   "cell_type": "code",
   "execution_count": 60,
   "id": "c228d6e4-5f53-4628-8452-38df3cf41516",
   "metadata": {},
   "outputs": [],
   "source": [
    "X_train_final = X_train.loc[:,rfe.support_]\n",
    "X_test_final = X_test.loc[:,rfe.support_]"
   ]
  },
  {
   "cell_type": "code",
   "execution_count": 63,
   "id": "106ce235-5def-432b-9255-45a24c5f4d40",
   "metadata": {},
   "outputs": [
    {
     "data": {
      "text/html": [
       "<style>#sk-container-id-1 {\n",
       "  /* Definition of color scheme common for light and dark mode */\n",
       "  --sklearn-color-text: black;\n",
       "  --sklearn-color-line: gray;\n",
       "  /* Definition of color scheme for unfitted estimators */\n",
       "  --sklearn-color-unfitted-level-0: #fff5e6;\n",
       "  --sklearn-color-unfitted-level-1: #f6e4d2;\n",
       "  --sklearn-color-unfitted-level-2: #ffe0b3;\n",
       "  --sklearn-color-unfitted-level-3: chocolate;\n",
       "  /* Definition of color scheme for fitted estimators */\n",
       "  --sklearn-color-fitted-level-0: #f0f8ff;\n",
       "  --sklearn-color-fitted-level-1: #d4ebff;\n",
       "  --sklearn-color-fitted-level-2: #b3dbfd;\n",
       "  --sklearn-color-fitted-level-3: cornflowerblue;\n",
       "\n",
       "  /* Specific color for light theme */\n",
       "  --sklearn-color-text-on-default-background: var(--sg-text-color, var(--theme-code-foreground, var(--jp-content-font-color1, black)));\n",
       "  --sklearn-color-background: var(--sg-background-color, var(--theme-background, var(--jp-layout-color0, white)));\n",
       "  --sklearn-color-border-box: var(--sg-text-color, var(--theme-code-foreground, var(--jp-content-font-color1, black)));\n",
       "  --sklearn-color-icon: #696969;\n",
       "\n",
       "  @media (prefers-color-scheme: dark) {\n",
       "    /* Redefinition of color scheme for dark theme */\n",
       "    --sklearn-color-text-on-default-background: var(--sg-text-color, var(--theme-code-foreground, var(--jp-content-font-color1, white)));\n",
       "    --sklearn-color-background: var(--sg-background-color, var(--theme-background, var(--jp-layout-color0, #111)));\n",
       "    --sklearn-color-border-box: var(--sg-text-color, var(--theme-code-foreground, var(--jp-content-font-color1, white)));\n",
       "    --sklearn-color-icon: #878787;\n",
       "  }\n",
       "}\n",
       "\n",
       "#sk-container-id-1 {\n",
       "  color: var(--sklearn-color-text);\n",
       "}\n",
       "\n",
       "#sk-container-id-1 pre {\n",
       "  padding: 0;\n",
       "}\n",
       "\n",
       "#sk-container-id-1 input.sk-hidden--visually {\n",
       "  border: 0;\n",
       "  clip: rect(1px 1px 1px 1px);\n",
       "  clip: rect(1px, 1px, 1px, 1px);\n",
       "  height: 1px;\n",
       "  margin: -1px;\n",
       "  overflow: hidden;\n",
       "  padding: 0;\n",
       "  position: absolute;\n",
       "  width: 1px;\n",
       "}\n",
       "\n",
       "#sk-container-id-1 div.sk-dashed-wrapped {\n",
       "  border: 1px dashed var(--sklearn-color-line);\n",
       "  margin: 0 0.4em 0.5em 0.4em;\n",
       "  box-sizing: border-box;\n",
       "  padding-bottom: 0.4em;\n",
       "  background-color: var(--sklearn-color-background);\n",
       "}\n",
       "\n",
       "#sk-container-id-1 div.sk-container {\n",
       "  /* jupyter's `normalize.less` sets `[hidden] { display: none; }`\n",
       "     but bootstrap.min.css set `[hidden] { display: none !important; }`\n",
       "     so we also need the `!important` here to be able to override the\n",
       "     default hidden behavior on the sphinx rendered scikit-learn.org.\n",
       "     See: https://github.com/scikit-learn/scikit-learn/issues/21755 */\n",
       "  display: inline-block !important;\n",
       "  position: relative;\n",
       "}\n",
       "\n",
       "#sk-container-id-1 div.sk-text-repr-fallback {\n",
       "  display: none;\n",
       "}\n",
       "\n",
       "div.sk-parallel-item,\n",
       "div.sk-serial,\n",
       "div.sk-item {\n",
       "  /* draw centered vertical line to link estimators */\n",
       "  background-image: linear-gradient(var(--sklearn-color-text-on-default-background), var(--sklearn-color-text-on-default-background));\n",
       "  background-size: 2px 100%;\n",
       "  background-repeat: no-repeat;\n",
       "  background-position: center center;\n",
       "}\n",
       "\n",
       "/* Parallel-specific style estimator block */\n",
       "\n",
       "#sk-container-id-1 div.sk-parallel-item::after {\n",
       "  content: \"\";\n",
       "  width: 100%;\n",
       "  border-bottom: 2px solid var(--sklearn-color-text-on-default-background);\n",
       "  flex-grow: 1;\n",
       "}\n",
       "\n",
       "#sk-container-id-1 div.sk-parallel {\n",
       "  display: flex;\n",
       "  align-items: stretch;\n",
       "  justify-content: center;\n",
       "  background-color: var(--sklearn-color-background);\n",
       "  position: relative;\n",
       "}\n",
       "\n",
       "#sk-container-id-1 div.sk-parallel-item {\n",
       "  display: flex;\n",
       "  flex-direction: column;\n",
       "}\n",
       "\n",
       "#sk-container-id-1 div.sk-parallel-item:first-child::after {\n",
       "  align-self: flex-end;\n",
       "  width: 50%;\n",
       "}\n",
       "\n",
       "#sk-container-id-1 div.sk-parallel-item:last-child::after {\n",
       "  align-self: flex-start;\n",
       "  width: 50%;\n",
       "}\n",
       "\n",
       "#sk-container-id-1 div.sk-parallel-item:only-child::after {\n",
       "  width: 0;\n",
       "}\n",
       "\n",
       "/* Serial-specific style estimator block */\n",
       "\n",
       "#sk-container-id-1 div.sk-serial {\n",
       "  display: flex;\n",
       "  flex-direction: column;\n",
       "  align-items: center;\n",
       "  background-color: var(--sklearn-color-background);\n",
       "  padding-right: 1em;\n",
       "  padding-left: 1em;\n",
       "}\n",
       "\n",
       "\n",
       "/* Toggleable style: style used for estimator/Pipeline/ColumnTransformer box that is\n",
       "clickable and can be expanded/collapsed.\n",
       "- Pipeline and ColumnTransformer use this feature and define the default style\n",
       "- Estimators will overwrite some part of the style using the `sk-estimator` class\n",
       "*/\n",
       "\n",
       "/* Pipeline and ColumnTransformer style (default) */\n",
       "\n",
       "#sk-container-id-1 div.sk-toggleable {\n",
       "  /* Default theme specific background. It is overwritten whether we have a\n",
       "  specific estimator or a Pipeline/ColumnTransformer */\n",
       "  background-color: var(--sklearn-color-background);\n",
       "}\n",
       "\n",
       "/* Toggleable label */\n",
       "#sk-container-id-1 label.sk-toggleable__label {\n",
       "  cursor: pointer;\n",
       "  display: block;\n",
       "  width: 100%;\n",
       "  margin-bottom: 0;\n",
       "  padding: 0.5em;\n",
       "  box-sizing: border-box;\n",
       "  text-align: center;\n",
       "}\n",
       "\n",
       "#sk-container-id-1 label.sk-toggleable__label-arrow:before {\n",
       "  /* Arrow on the left of the label */\n",
       "  content: \"▸\";\n",
       "  float: left;\n",
       "  margin-right: 0.25em;\n",
       "  color: var(--sklearn-color-icon);\n",
       "}\n",
       "\n",
       "#sk-container-id-1 label.sk-toggleable__label-arrow:hover:before {\n",
       "  color: var(--sklearn-color-text);\n",
       "}\n",
       "\n",
       "/* Toggleable content - dropdown */\n",
       "\n",
       "#sk-container-id-1 div.sk-toggleable__content {\n",
       "  max-height: 0;\n",
       "  max-width: 0;\n",
       "  overflow: hidden;\n",
       "  text-align: left;\n",
       "  /* unfitted */\n",
       "  background-color: var(--sklearn-color-unfitted-level-0);\n",
       "}\n",
       "\n",
       "#sk-container-id-1 div.sk-toggleable__content.fitted {\n",
       "  /* fitted */\n",
       "  background-color: var(--sklearn-color-fitted-level-0);\n",
       "}\n",
       "\n",
       "#sk-container-id-1 div.sk-toggleable__content pre {\n",
       "  margin: 0.2em;\n",
       "  border-radius: 0.25em;\n",
       "  color: var(--sklearn-color-text);\n",
       "  /* unfitted */\n",
       "  background-color: var(--sklearn-color-unfitted-level-0);\n",
       "}\n",
       "\n",
       "#sk-container-id-1 div.sk-toggleable__content.fitted pre {\n",
       "  /* unfitted */\n",
       "  background-color: var(--sklearn-color-fitted-level-0);\n",
       "}\n",
       "\n",
       "#sk-container-id-1 input.sk-toggleable__control:checked~div.sk-toggleable__content {\n",
       "  /* Expand drop-down */\n",
       "  max-height: 200px;\n",
       "  max-width: 100%;\n",
       "  overflow: auto;\n",
       "}\n",
       "\n",
       "#sk-container-id-1 input.sk-toggleable__control:checked~label.sk-toggleable__label-arrow:before {\n",
       "  content: \"▾\";\n",
       "}\n",
       "\n",
       "/* Pipeline/ColumnTransformer-specific style */\n",
       "\n",
       "#sk-container-id-1 div.sk-label input.sk-toggleable__control:checked~label.sk-toggleable__label {\n",
       "  color: var(--sklearn-color-text);\n",
       "  background-color: var(--sklearn-color-unfitted-level-2);\n",
       "}\n",
       "\n",
       "#sk-container-id-1 div.sk-label.fitted input.sk-toggleable__control:checked~label.sk-toggleable__label {\n",
       "  background-color: var(--sklearn-color-fitted-level-2);\n",
       "}\n",
       "\n",
       "/* Estimator-specific style */\n",
       "\n",
       "/* Colorize estimator box */\n",
       "#sk-container-id-1 div.sk-estimator input.sk-toggleable__control:checked~label.sk-toggleable__label {\n",
       "  /* unfitted */\n",
       "  background-color: var(--sklearn-color-unfitted-level-2);\n",
       "}\n",
       "\n",
       "#sk-container-id-1 div.sk-estimator.fitted input.sk-toggleable__control:checked~label.sk-toggleable__label {\n",
       "  /* fitted */\n",
       "  background-color: var(--sklearn-color-fitted-level-2);\n",
       "}\n",
       "\n",
       "#sk-container-id-1 div.sk-label label.sk-toggleable__label,\n",
       "#sk-container-id-1 div.sk-label label {\n",
       "  /* The background is the default theme color */\n",
       "  color: var(--sklearn-color-text-on-default-background);\n",
       "}\n",
       "\n",
       "/* On hover, darken the color of the background */\n",
       "#sk-container-id-1 div.sk-label:hover label.sk-toggleable__label {\n",
       "  color: var(--sklearn-color-text);\n",
       "  background-color: var(--sklearn-color-unfitted-level-2);\n",
       "}\n",
       "\n",
       "/* Label box, darken color on hover, fitted */\n",
       "#sk-container-id-1 div.sk-label.fitted:hover label.sk-toggleable__label.fitted {\n",
       "  color: var(--sklearn-color-text);\n",
       "  background-color: var(--sklearn-color-fitted-level-2);\n",
       "}\n",
       "\n",
       "/* Estimator label */\n",
       "\n",
       "#sk-container-id-1 div.sk-label label {\n",
       "  font-family: monospace;\n",
       "  font-weight: bold;\n",
       "  display: inline-block;\n",
       "  line-height: 1.2em;\n",
       "}\n",
       "\n",
       "#sk-container-id-1 div.sk-label-container {\n",
       "  text-align: center;\n",
       "}\n",
       "\n",
       "/* Estimator-specific */\n",
       "#sk-container-id-1 div.sk-estimator {\n",
       "  font-family: monospace;\n",
       "  border: 1px dotted var(--sklearn-color-border-box);\n",
       "  border-radius: 0.25em;\n",
       "  box-sizing: border-box;\n",
       "  margin-bottom: 0.5em;\n",
       "  /* unfitted */\n",
       "  background-color: var(--sklearn-color-unfitted-level-0);\n",
       "}\n",
       "\n",
       "#sk-container-id-1 div.sk-estimator.fitted {\n",
       "  /* fitted */\n",
       "  background-color: var(--sklearn-color-fitted-level-0);\n",
       "}\n",
       "\n",
       "/* on hover */\n",
       "#sk-container-id-1 div.sk-estimator:hover {\n",
       "  /* unfitted */\n",
       "  background-color: var(--sklearn-color-unfitted-level-2);\n",
       "}\n",
       "\n",
       "#sk-container-id-1 div.sk-estimator.fitted:hover {\n",
       "  /* fitted */\n",
       "  background-color: var(--sklearn-color-fitted-level-2);\n",
       "}\n",
       "\n",
       "/* Specification for estimator info (e.g. \"i\" and \"?\") */\n",
       "\n",
       "/* Common style for \"i\" and \"?\" */\n",
       "\n",
       ".sk-estimator-doc-link,\n",
       "a:link.sk-estimator-doc-link,\n",
       "a:visited.sk-estimator-doc-link {\n",
       "  float: right;\n",
       "  font-size: smaller;\n",
       "  line-height: 1em;\n",
       "  font-family: monospace;\n",
       "  background-color: var(--sklearn-color-background);\n",
       "  border-radius: 1em;\n",
       "  height: 1em;\n",
       "  width: 1em;\n",
       "  text-decoration: none !important;\n",
       "  margin-left: 1ex;\n",
       "  /* unfitted */\n",
       "  border: var(--sklearn-color-unfitted-level-1) 1pt solid;\n",
       "  color: var(--sklearn-color-unfitted-level-1);\n",
       "}\n",
       "\n",
       ".sk-estimator-doc-link.fitted,\n",
       "a:link.sk-estimator-doc-link.fitted,\n",
       "a:visited.sk-estimator-doc-link.fitted {\n",
       "  /* fitted */\n",
       "  border: var(--sklearn-color-fitted-level-1) 1pt solid;\n",
       "  color: var(--sklearn-color-fitted-level-1);\n",
       "}\n",
       "\n",
       "/* On hover */\n",
       "div.sk-estimator:hover .sk-estimator-doc-link:hover,\n",
       ".sk-estimator-doc-link:hover,\n",
       "div.sk-label-container:hover .sk-estimator-doc-link:hover,\n",
       ".sk-estimator-doc-link:hover {\n",
       "  /* unfitted */\n",
       "  background-color: var(--sklearn-color-unfitted-level-3);\n",
       "  color: var(--sklearn-color-background);\n",
       "  text-decoration: none;\n",
       "}\n",
       "\n",
       "div.sk-estimator.fitted:hover .sk-estimator-doc-link.fitted:hover,\n",
       ".sk-estimator-doc-link.fitted:hover,\n",
       "div.sk-label-container:hover .sk-estimator-doc-link.fitted:hover,\n",
       ".sk-estimator-doc-link.fitted:hover {\n",
       "  /* fitted */\n",
       "  background-color: var(--sklearn-color-fitted-level-3);\n",
       "  color: var(--sklearn-color-background);\n",
       "  text-decoration: none;\n",
       "}\n",
       "\n",
       "/* Span, style for the box shown on hovering the info icon */\n",
       ".sk-estimator-doc-link span {\n",
       "  display: none;\n",
       "  z-index: 9999;\n",
       "  position: relative;\n",
       "  font-weight: normal;\n",
       "  right: .2ex;\n",
       "  padding: .5ex;\n",
       "  margin: .5ex;\n",
       "  width: min-content;\n",
       "  min-width: 20ex;\n",
       "  max-width: 50ex;\n",
       "  color: var(--sklearn-color-text);\n",
       "  box-shadow: 2pt 2pt 4pt #999;\n",
       "  /* unfitted */\n",
       "  background: var(--sklearn-color-unfitted-level-0);\n",
       "  border: .5pt solid var(--sklearn-color-unfitted-level-3);\n",
       "}\n",
       "\n",
       ".sk-estimator-doc-link.fitted span {\n",
       "  /* fitted */\n",
       "  background: var(--sklearn-color-fitted-level-0);\n",
       "  border: var(--sklearn-color-fitted-level-3);\n",
       "}\n",
       "\n",
       ".sk-estimator-doc-link:hover span {\n",
       "  display: block;\n",
       "}\n",
       "\n",
       "/* \"?\"-specific style due to the `<a>` HTML tag */\n",
       "\n",
       "#sk-container-id-1 a.estimator_doc_link {\n",
       "  float: right;\n",
       "  font-size: 1rem;\n",
       "  line-height: 1em;\n",
       "  font-family: monospace;\n",
       "  background-color: var(--sklearn-color-background);\n",
       "  border-radius: 1rem;\n",
       "  height: 1rem;\n",
       "  width: 1rem;\n",
       "  text-decoration: none;\n",
       "  /* unfitted */\n",
       "  color: var(--sklearn-color-unfitted-level-1);\n",
       "  border: var(--sklearn-color-unfitted-level-1) 1pt solid;\n",
       "}\n",
       "\n",
       "#sk-container-id-1 a.estimator_doc_link.fitted {\n",
       "  /* fitted */\n",
       "  border: var(--sklearn-color-fitted-level-1) 1pt solid;\n",
       "  color: var(--sklearn-color-fitted-level-1);\n",
       "}\n",
       "\n",
       "/* On hover */\n",
       "#sk-container-id-1 a.estimator_doc_link:hover {\n",
       "  /* unfitted */\n",
       "  background-color: var(--sklearn-color-unfitted-level-3);\n",
       "  color: var(--sklearn-color-background);\n",
       "  text-decoration: none;\n",
       "}\n",
       "\n",
       "#sk-container-id-1 a.estimator_doc_link.fitted:hover {\n",
       "  /* fitted */\n",
       "  background-color: var(--sklearn-color-fitted-level-3);\n",
       "}\n",
       "</style><div id=\"sk-container-id-1\" class=\"sk-top-container\"><div class=\"sk-text-repr-fallback\"><pre>LogisticRegression(max_iter=100000)</pre><b>In a Jupyter environment, please rerun this cell to show the HTML representation or trust the notebook. <br />On GitHub, the HTML representation is unable to render, please try loading this page with nbviewer.org.</b></div><div class=\"sk-container\" hidden><div class=\"sk-item\"><div class=\"sk-estimator fitted sk-toggleable\"><input class=\"sk-toggleable__control sk-hidden--visually\" id=\"sk-estimator-id-1\" type=\"checkbox\" checked><label for=\"sk-estimator-id-1\" class=\"sk-toggleable__label fitted sk-toggleable__label-arrow fitted\">&nbsp;&nbsp;LogisticRegression<a class=\"sk-estimator-doc-link fitted\" rel=\"noreferrer\" target=\"_blank\" href=\"https://scikit-learn.org/1.5/modules/generated/sklearn.linear_model.LogisticRegression.html\">?<span>Documentation for LogisticRegression</span></a><span class=\"sk-estimator-doc-link fitted\">i<span>Fitted</span></span></label><div class=\"sk-toggleable__content fitted\"><pre>LogisticRegression(max_iter=100000)</pre></div> </div></div></div></div>"
      ],
      "text/plain": [
       "LogisticRegression(max_iter=100000)"
      ]
     },
     "execution_count": 63,
     "metadata": {},
     "output_type": "execute_result"
    }
   ],
   "source": [
    "logreg = LogisticRegression(max_iter = 100000)\n",
    "logreg.fit(X_train_final, y_train)"
   ]
  },
  {
   "cell_type": "code",
   "execution_count": 66,
   "id": "30dcf05f-d049-4f7e-ab7c-30d2f44eeb02",
   "metadata": {
    "scrolled": true
   },
   "outputs": [],
   "source": [
    "y_pred = logreg.predict(X_test_final)\n",
    "y_pred_proba = logreg.predict_proba(X_test_final)[:, 1]"
   ]
  },
  {
   "cell_type": "code",
   "execution_count": 69,
   "id": "6abb6958-06cc-4f3f-bce1-b024e549710a",
   "metadata": {
    "scrolled": true
   },
   "outputs": [
    {
     "data": {
      "text/plain": [
       "array([0, 0, 0, 0, 0, 0, 1, 0, 1, 0, 0, 0, 1, 0, 1, 1, 0, 0, 0, 1, 0, 0,\n",
       "       1, 1, 1, 0, 1, 0, 0, 0, 0, 0, 0, 0, 0, 0, 1, 1, 0, 0, 0, 0, 0, 1,\n",
       "       1, 0, 0, 0, 1, 0, 0, 0, 1, 1, 0, 0, 0, 0, 0, 1, 0, 0, 0, 1, 1, 1,\n",
       "       1, 0, 1, 1, 1, 0, 1, 1, 1, 1, 0, 1, 0, 1, 0, 0, 0, 0, 0, 0, 1, 1,\n",
       "       1, 0, 1, 0, 1, 0, 1, 0, 1, 0, 1, 0, 1, 0, 0, 0, 1, 0, 0, 0, 0, 0,\n",
       "       0, 1, 1, 1, 1, 0, 0, 1, 1, 1, 1, 0, 1, 0, 0, 1, 0, 1, 0, 0, 0, 0,\n",
       "       0, 0, 0, 0, 0, 0, 1, 0, 0, 1, 0, 0, 0, 0, 0, 0, 0, 0, 1, 0, 0, 0,\n",
       "       0, 0, 1, 1, 0, 1, 1, 0, 1, 0, 0, 0, 0, 0, 1, 1, 0, 0, 0, 0, 0, 1,\n",
       "       1, 0, 1, 1, 0, 0, 1, 0, 1, 0, 1, 0, 0, 0, 0, 0, 0, 0, 1, 0, 1, 1,\n",
       "       0, 1, 1, 0, 1, 1, 0, 1, 1, 0, 1, 0, 0, 0, 0, 1, 0, 0, 1, 0, 1, 0,\n",
       "       1, 0, 1, 0, 1, 1, 0, 1, 0, 0, 1, 1, 0, 0, 0, 0, 0, 0, 1, 1, 1, 1,\n",
       "       0, 0, 0, 0, 1, 0, 1, 1, 1, 0, 1, 0, 0, 0, 0, 0, 1, 0, 0, 0, 1, 1,\n",
       "       0, 0, 0, 0, 1, 0, 0, 0, 1, 1, 0, 1, 0, 0, 0, 0, 1, 0, 1, 1, 1, 0,\n",
       "       0, 0, 0, 0, 0, 1, 0, 0, 0, 0, 1, 0, 0, 0, 0, 0, 0, 0, 1, 1, 0, 0,\n",
       "       0, 0, 0, 0, 0, 1, 1, 1, 0, 0, 0, 0, 0, 0, 0, 0, 1, 0, 1, 0, 0, 0,\n",
       "       1, 0, 0, 1, 0, 0, 0, 0, 0, 0, 0, 0, 0, 1, 0, 1, 0, 1, 0, 1, 1, 0,\n",
       "       0, 0, 1, 0, 1, 0, 0, 0, 0, 1, 1, 0, 1, 0, 0, 1, 1, 0, 0, 1, 0, 0,\n",
       "       1, 1, 0, 0, 0, 0, 0, 0, 1, 1, 0, 1, 0, 0, 0, 0, 1, 1, 0, 0, 0, 1,\n",
       "       0, 1, 0, 0, 1, 0, 1, 0, 0, 0, 0, 0, 1, 1, 1, 1, 1, 0, 1, 0, 0, 0],\n",
       "      dtype=int64)"
      ]
     },
     "execution_count": 69,
     "metadata": {},
     "output_type": "execute_result"
    }
   ],
   "source": [
    "y_pred"
   ]
  },
  {
   "cell_type": "code",
   "execution_count": 74,
   "id": "b6dddec6-2634-4ff1-9ce8-f0b82f4d25b6",
   "metadata": {
    "collapsed": true,
    "jupyter": {
     "outputs_hidden": true
    },
    "scrolled": true
   },
   "outputs": [
    {
     "data": {
      "text/plain": [
       "array([0.11870347, 0.38292308, 0.18371703, 0.09644208, 0.49251772,\n",
       "       0.27493227, 0.66913447, 0.18073869, 0.73087789, 0.05729076,\n",
       "       0.09017256, 0.31599996, 0.90190905, 0.09695915, 0.82840466,\n",
       "       0.84745997, 0.2998937 , 0.15622884, 0.4977    , 0.59081507,\n",
       "       0.30539108, 0.26234941, 0.90354854, 0.55170207, 0.90760322,\n",
       "       0.04167714, 0.94265414, 0.15316924, 0.34536573, 0.06858528,\n",
       "       0.12704924, 0.15675462, 0.39814139, 0.41794709, 0.43913262,\n",
       "       0.16570672, 0.57636165, 0.62678221, 0.10095454, 0.10730663,\n",
       "       0.09608467, 0.40182942, 0.07116648, 0.81581016, 0.83001223,\n",
       "       0.10024188, 0.42003873, 0.12884905, 0.89349637, 0.47008827,\n",
       "       0.37592783, 0.34642909, 0.6979475 , 0.84979771, 0.33071195,\n",
       "       0.11029981, 0.08102362, 0.10024188, 0.06541225, 0.96835565,\n",
       "       0.11843274, 0.23612768, 0.11601156, 0.70919071, 0.77238802,\n",
       "       0.82049742, 0.72810884, 0.32462423, 0.50025474, 0.80784633,\n",
       "       0.69944594, 0.10900471, 0.5811059 , 0.5168123 , 0.96244188,\n",
       "       0.66781772, 0.09049618, 0.70309692, 0.24467228, 0.69944594,\n",
       "       0.29208862, 0.29340285, 0.30102749, 0.09017256, 0.32329049,\n",
       "       0.09510099, 0.68448639, 0.64305095, 0.66913447, 0.49652907,\n",
       "       0.53280771, 0.09017256, 0.84449383, 0.09049618, 0.53333303,\n",
       "       0.10024188, 0.7236766 , 0.09211066, 0.63132299, 0.08488243,\n",
       "       0.8868251 , 0.19954334, 0.12884905, 0.09815118, 0.81285015,\n",
       "       0.09924344, 0.15438797, 0.12884905, 0.09049618, 0.30017675,\n",
       "       0.27640903, 0.66913447, 0.92492956, 0.72810884, 0.86177655,\n",
       "       0.12216262, 0.12998634, 0.80794693, 0.51727551, 0.76485785,\n",
       "       0.9466876 , 0.09158078, 0.90497556, 0.09408611, 0.12884905,\n",
       "       0.6191926 , 0.10675294, 0.50016604, 0.19654848, 0.10273452,\n",
       "       0.08671767, 0.37431801, 0.43663147, 0.09242402, 0.06813458,\n",
       "       0.10237205, 0.14141956, 0.262379  , 0.61577209, 0.02366744,\n",
       "       0.41426439, 0.93337288, 0.34639912, 0.26323185, 0.33656848,\n",
       "       0.03102219, 0.42570647, 0.10712907, 0.40182942, 0.16565252,\n",
       "       0.9459788 , 0.13043238, 0.05199578, 0.46714619, 0.06251651,\n",
       "       0.10237205, 0.95297756, 0.61483988, 0.33656848, 0.52655329,\n",
       "       0.66913447, 0.2872742 , 0.82946022, 0.09017256, 0.20026968,\n",
       "       0.47897735, 0.42308939, 0.04716152, 0.93313819, 0.62129277,\n",
       "       0.09017256, 0.13860234, 0.0753393 , 0.13043238, 0.02604943,\n",
       "       0.92997466, 0.85969699, 0.30701515, 0.72670815, 0.85146199,\n",
       "       0.24467228, 0.38615928, 0.90215463, 0.12884905, 0.95399127,\n",
       "       0.205969  , 0.82819524, 0.05896482, 0.05555518, 0.20404343,\n",
       "       0.17466251, 0.40182942, 0.19457092, 0.18905666, 0.52674224,\n",
       "       0.08457701, 0.8386407 , 0.64214646, 0.27383309, 0.57636165,\n",
       "       0.67607225, 0.28144553, 0.50676554, 0.92222648, 0.2646269 ,\n",
       "       0.50315046, 0.64274153, 0.26920514, 0.92862328, 0.10024188,\n",
       "       0.091185  , 0.09017256, 0.35737864, 0.61162846, 0.15041679,\n",
       "       0.3507803 , 0.66913447, 0.263699  , 0.91308441, 0.09049618,\n",
       "       0.82043426, 0.1093878 , 0.84071847, 0.10900471, 0.89068643,\n",
       "       0.60706377, 0.10454223, 0.66913447, 0.07488232, 0.21966496,\n",
       "       0.601441  , 0.9189511 , 0.07668975, 0.12884905, 0.40128147,\n",
       "       0.11129806, 0.27501514, 0.15933807, 0.77351508, 0.89497311,\n",
       "       0.8860462 , 0.70876032, 0.3894046 , 0.09017256, 0.04989493,\n",
       "       0.28088435, 0.84643441, 0.1330907 , 0.76485785, 0.58966067,\n",
       "       0.92461013, 0.11129806, 0.53410627, 0.10309812, 0.08703008,\n",
       "       0.09017256, 0.12884905, 0.09442232, 0.85139601, 0.10900471,\n",
       "       0.05754909, 0.10900471, 0.77489669, 0.80549066, 0.32810206,\n",
       "       0.09017256, 0.37748326, 0.09017256, 0.57636165, 0.11884454,\n",
       "       0.45888053, 0.12884905, 0.94133644, 0.58721608, 0.13043238,\n",
       "       0.80060527, 0.25119464, 0.15533912, 0.18557301, 0.27851028,\n",
       "       0.61577209, 0.23737251, 0.66913447, 0.84023681, 0.80675791,\n",
       "       0.07929843, 0.09017256, 0.39646266, 0.13043238, 0.09049618,\n",
       "       0.41419495, 0.66826197, 0.13043238, 0.22095352, 0.07987541,\n",
       "       0.09815118, 0.95039689, 0.06858528, 0.41993982, 0.09211066,\n",
       "       0.08640627, 0.33071195, 0.1740327 , 0.10273452, 0.66913447,\n",
       "       0.70710058, 0.35349854, 0.31011507, 0.22103335, 0.40064089,\n",
       "       0.11641606, 0.15316924, 0.09017256, 0.63192574, 0.92246452,\n",
       "       0.73271605, 0.37146924, 0.292832  , 0.09609944, 0.16304004,\n",
       "       0.09815118, 0.14428445, 0.262379  , 0.38507973, 0.93909513,\n",
       "       0.10454223, 0.885673  , 0.46279466, 0.19217378, 0.28564092,\n",
       "       0.69905602, 0.45456901, 0.13043238, 0.61454698, 0.09609944,\n",
       "       0.40182942, 0.23612768, 0.08146935, 0.28103113, 0.13043238,\n",
       "       0.29770066, 0.08640627, 0.02048469, 0.97664812, 0.05600472,\n",
       "       0.83076151, 0.262379  , 0.62974469, 0.27153586, 0.81702545,\n",
       "       0.90630424, 0.2646269 , 0.3520232 , 0.1125317 , 0.7889259 ,\n",
       "       0.29612736, 0.7049315 , 0.09017256, 0.12884905, 0.48803041,\n",
       "       0.01606757, 0.83156884, 0.81702545, 0.09644208, 0.92271902,\n",
       "       0.22236563, 0.09510099, 0.64956475, 0.90495793, 0.33415645,\n",
       "       0.21284889, 0.95408349, 0.27993061, 0.18926338, 0.79115976,\n",
       "       0.96122594, 0.43251857, 0.28403641, 0.29146526, 0.07442766,\n",
       "       0.12884905, 0.13972429, 0.58212067, 0.55315551, 0.24394519,\n",
       "       0.75680798, 0.10237205, 0.14691847, 0.15438797, 0.11479796,\n",
       "       0.5074505 , 0.83479874, 0.22831567, 0.17699912, 0.02829403,\n",
       "       0.90456128, 0.14544463, 0.8674767 , 0.10675294, 0.12624543,\n",
       "       0.94053634, 0.15892877, 0.94222687, 0.49725749, 0.33916758,\n",
       "       0.38252049, 0.20447249, 0.43448982, 0.66913447, 0.79868789,\n",
       "       0.66913447, 0.91075671, 0.58679043, 0.09049618, 0.93959327,\n",
       "       0.07594841, 0.09049618, 0.08480441])"
      ]
     },
     "execution_count": 74,
     "metadata": {},
     "output_type": "execute_result"
    }
   ],
   "source": [
    "y_pred_proba"
   ]
  },
  {
   "cell_type": "code",
   "execution_count": 77,
   "id": "6aa2a2b8-5fb9-4a20-add6-3a9b4b94c5c9",
   "metadata": {},
   "outputs": [],
   "source": [
    "from sklearn.metrics import confusion_matrix, roc_curve, roc_auc_score"
   ]
  },
  {
   "cell_type": "code",
   "execution_count": 80,
   "id": "8205058b-5dd8-4d3f-ba85-3f4eda17ff09",
   "metadata": {},
   "outputs": [],
   "source": [
    "matriz_confusion = confusion_matrix(y_test, y_pred)"
   ]
  },
  {
   "cell_type": "code",
   "execution_count": 83,
   "id": "17fa0c32-4b03-49eb-9fbd-31f2f619bc2e",
   "metadata": {},
   "outputs": [
    {
     "data": {
      "text/plain": [
       "y_pred  y_real\n",
       "0       0         252\n",
       "        1          16\n",
       "1       0          14\n",
       "        1         136\n",
       "dtype: int64"
      ]
     },
     "execution_count": 83,
     "metadata": {},
     "output_type": "execute_result"
    }
   ],
   "source": [
    "pd.DataFrame(\n",
    "    {\"y_real\" : y_test, \n",
    "     \"y_pred\": y_pred}\n",
    ").groupby([\"y_pred\", \"y_real\"]).size()"
   ]
  },
  {
   "cell_type": "markdown",
   "id": "b0647506-fa6e-489b-b19f-b06aac31c2e3",
   "metadata": {},
   "source": [
    "11. Calcular Accuracy"
   ]
  },
  {
   "cell_type": "code",
   "execution_count": 86,
   "id": "8994c1e4-aefb-4206-9393-de6d74f6b619",
   "metadata": {},
   "outputs": [],
   "source": [
    "TN = matriz_confusion[0][0]\n",
    "TP = matriz_confusion[1][1]\n",
    "FN = matriz_confusion[1][0]\n",
    "FP = matriz_confusion[0][1]"
   ]
  },
  {
   "cell_type": "code",
   "execution_count": 88,
   "id": "2d4c7729-dc25-448e-a0f5-2b411f429952",
   "metadata": {},
   "outputs": [
    {
     "data": {
      "text/plain": [
       "0.9282296650717703"
      ]
     },
     "execution_count": 88,
     "metadata": {},
     "output_type": "execute_result"
    }
   ],
   "source": [
    "## Accuracy\n",
    "(TN + TP) / (TN + TP + FN + FP)"
   ]
  },
  {
   "cell_type": "code",
   "execution_count": 90,
   "id": "23d46e37-0c7e-47d5-9cfe-d89d9cb8ff01",
   "metadata": {},
   "outputs": [
    {
     "data": {
      "text/plain": [
       "0.8947368421052632"
      ]
     },
     "execution_count": 90,
     "metadata": {},
     "output_type": "execute_result"
    }
   ],
   "source": [
    "TP / (TP + FN)"
   ]
  },
  {
   "cell_type": "code",
   "execution_count": 92,
   "id": "4489c898-321d-485e-aa23-77f0329e5ce1",
   "metadata": {},
   "outputs": [
    {
     "data": {
      "text/plain": [
       "0.9473684210526315"
      ]
     },
     "execution_count": 92,
     "metadata": {},
     "output_type": "execute_result"
    }
   ],
   "source": [
    "TN / (TN + FP)"
   ]
  },
  {
   "cell_type": "code",
   "execution_count": 94,
   "id": "8d1acb6b-bf41-4e07-b793-f323fb6d757a",
   "metadata": {},
   "outputs": [],
   "source": [
    "especificidad_inv, sensibilidad, threshold = roc_curve(y_test, y_pred_proba)"
   ]
  },
  {
   "cell_type": "code",
   "execution_count": 96,
   "id": "83d4fb22-a690-45ec-a65a-f21954883932",
   "metadata": {},
   "outputs": [],
   "source": [
    "recta_x = [i * 0.01 for i in range(101)]\n",
    "recta_y = recta_x"
   ]
  },
  {
   "cell_type": "code",
   "execution_count": 98,
   "id": "63b48c35-2576-4b2c-afb1-1cadd0a354fe",
   "metadata": {},
   "outputs": [
    {
     "data": {
      "text/plain": [
       "<Axes: >"
      ]
     },
     "execution_count": 98,
     "metadata": {},
     "output_type": "execute_result"
    },
    {
     "data": {
      "image/png": "[encoded data removed]",
      "text/plain": [
       "<Figure size 640x480 with 1 Axes>"
      ]
     },
     "metadata": {},
     "output_type": "display_data"
    }
   ],
   "source": [
    "sns.lineplot(x = recta_x, y = recta_y, ls = \"--\",  color = \"red\")\n",
    "sns.lineplot(x = especificidad_inv, y = sensibilidad)"
   ]
  },
  {
   "cell_type": "code",
   "execution_count": 100,
   "id": "df5af997-62ea-4584-9a61-3e163047a727",
   "metadata": {},
   "outputs": [
    {
     "data": {
      "text/plain": [
       "0.9760091017016225"
      ]
     },
     "execution_count": 100,
     "metadata": {},
     "output_type": "execute_result"
    }
   ],
   "source": [
    "roc_auc_score(y_test, y_pred_proba)"
   ]
  },
  {
   "cell_type": "code",
   "execution_count": null,
   "id": "ceb765cf-e590-49e9-a903-1dd84e9ccf30",
   "metadata": {},
   "outputs": [],
   "source": []
  }
 ],
 "metadata": {
  "kernelspec": {
   "display_name": "Python [conda env:base] *",
   "language": "python",
   "name": "conda-base-py"
  },
  "language_info": {
   "codemirror_mode": {
    "name": "ipython",
    "version": 3
   },
   "file_extension": ".py",
   "mimetype": "text/x-python",
   "name": "python",
   "nbconvert_exporter": "python",
   "pygments_lexer": "ipython3",
   "version": "3.12.7"
  }
 },
 "nbformat": 4,
 "nbformat_minor": 5
}
